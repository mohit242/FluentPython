{
 "cells": [
  {
   "cell_type": "markdown",
   "metadata": {},
   "source": [
    "## Git Tricks\n",
    "\n",
    "### Relative Referencing\n",
    "- **HEAD~2**: Select grandparent of head\n",
    "- **HEAD^2**: Select second parent of last one commited.\n",
    "\n",
    "### Revision Ranges\n",
    "- **Double dot notation-** `git log b05022238cdf08..60f89368787f0e`: shows all the commits in second commit  \n",
    "    that are not included in first commit.\n",
    "- **Triple dot notation-** `git log b05022238cdf08...60f89368787f0e`: Commits that are either revision that are not included in both revisions"
   ]
  },
  {
   "cell_type": "markdown",
   "metadata": {},
   "source": [
    "### To correct error in earlier branch\n",
    "- detach `HEAD`\n",
    "- create new branch e.g. temp\n",
    "- Commit changes with `git commit --amend`\n",
    "- Go back to master and do `git rebase temp`"
   ]
  }
 ],
 "metadata": {
  "kernelspec": {
   "display_name": "Python 3",
   "language": "python",
   "name": "python3"
  },
  "language_info": {
   "codemirror_mode": {
    "name": "ipython",
    "version": 3
   },
   "file_extension": ".py",
   "mimetype": "text/x-python",
   "name": "python",
   "nbconvert_exporter": "python",
   "pygments_lexer": "ipython3",
   "version": "3.7.1"
  }
 },
 "nbformat": 4,
 "nbformat_minor": 2
}
